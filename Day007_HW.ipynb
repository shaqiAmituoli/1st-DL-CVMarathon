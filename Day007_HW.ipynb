{
 "cells": [
  {
   "cell_type": "markdown",
   "metadata": {},
   "source": [
    "# HTTP 靜態網頁架構說明\n",
    "\n",
    "* 認識靜態網頁的溝通架構與運作原理\n",
    "* HTML、CSS、JavaScript 在網頁中扮演的角色\n",
    "* 網頁中定位資料的方法"
   ]
  },
  {
   "cell_type": "markdown",
   "metadata": {},
   "source": [
    "## 作業目標\n",
    "\n",
    "1. （簡答題）請問目前提到的這種基於 HTTP 一來一回的網頁傳輸方式，有哪些缺點及問題？\n",
    "2. （簡答題）網頁中使用的 JavaScipt 程式語言，跟我們一般使用的 Python 在執行上有什麼不同。\n"
   ]
  },
  {
   "cell_type": "markdown",
   "metadata": {},
   "source": [
    "### 1.（簡答題）請問目前提到的這種基於 HTTP 一來一回的網頁傳輸方式，有哪些缺點及問題？"
   ]
  },
  {
   "cell_type": "markdown",
   "metadata": {},
   "source": [
    "#### 效率:\n",
    "\n",
    "HTTP在傳輸上屬於被動傳輸，只有當客戶端發送請求時，伺服器端才能傳輸資料。\n",
    "而當客戶端發送請求後，伺服器端會一次將所有資訊通過TCP協議傳輸至客戶端。\n",
    "\n",
    "故，每當HTTP做一次request時，所有的資料**便需要重新傳輸一遍**，在頻繁發送request(如實時更新)時，\n",
    "效率就顯得不佳。\n",
    "且HTTP的**header資訊較大**，傳輸時會**降低真正資料的佔比**，一樣會造成效率不佳的問題。\n",
    "\n",
    "#### 安全性:\n",
    "\n",
    "HTTP協議並不具備加密功能，故當封包在伺服器端與客戶端之間傳輸的過程中，有遭遇**竊聽**或是**中間人攻擊**的風險。\n",
    "而現今網站大多改使用**HTTPS**協議，以**公私鑰**確認伺服器與客戶間的身份(防止**中間人攻擊**)，並以之加密封包，防止**竊聽**。\n"
   ]
  },
  {
   "cell_type": "markdown",
   "metadata": {},
   "source": [
    "### 2. （簡答題）網頁中使用的 JavaScipt 程式語言，跟我們一般使用的 Python 在執行上有什麼不同。"
   ]
  },
  {
   "cell_type": "markdown",
   "metadata": {},
   "source": [
    "JavaScript 與 Python 同屬直譯語言、支援動態型別，\n",
    "\n",
    "但執行時的差異在於JavaScript只有一個執行緒，\n",
    "而Python可透過thread的package去實現多執行緒。"
   ]
  },
  {
   "cell_type": "code",
   "execution_count": null,
   "metadata": {},
   "outputs": [],
   "source": []
  }
 ],
 "metadata": {
  "kernelspec": {
   "display_name": "Python 3",
   "language": "python",
   "name": "python3"
  },
  "language_info": {
   "codemirror_mode": {
    "name": "ipython",
    "version": 3
   },
   "file_extension": ".py",
   "mimetype": "text/x-python",
   "name": "python",
   "nbconvert_exporter": "python",
   "pygments_lexer": "ipython3",
   "version": "3.7.4"
  }
 },
 "nbformat": 4,
 "nbformat_minor": 2
}
